{
  "cells": [
    {
      "cell_type": "code",
      "execution_count": 1,
      "metadata": {
        "id": "AFZDq6R3mVr7"
      },
      "outputs": [],
      "source": [
        "import numpy as np\n",
        "import pandas as pd\n",
        "import matplotlib.pyplot as plt\n",
        "import plotly.express as px"
      ]
    },
    {
      "cell_type": "markdown",
      "metadata": {
        "id": "IzI00BRqSaFY"
      },
      "source": [
        "### Hertzsprung–Russell Diagram (H-R Diagram)\n",
        "\n",
        "The Hertzsprung–Russell Diagram is a scatter plot used in astrophysics to show the relationship between the **luminosity** (or absolute magnitude) of stars and their **surface temperature** (or spectral class).\n",
        "\n",
        "- **X-axis**: Temperature (decreasing to the right) or Spectral Type (O to M)\n",
        "- **Y-axis**: Luminosity (in solar units) or Absolute Magnitude\n",
        "\n",
        "Stars are grouped into regions:\n",
        "- **Main Sequence**: Where most stars lie, including the Sun\n",
        "- **Giants & Supergiants**: Bright, cooler stars in the upper right\n",
        "- **White Dwarfs**: Hot, dim stars in the lower left\n",
        "\n",
        "The H-R Diagram helps astronomers understand stellar evolution and classify different types of stars."
      ]
    },
    {
      "cell_type": "code",
      "execution_count": null,
      "metadata": {
        "colab": {
          "base_uri": "https://localhost:8080/"
        },
        "id": "zIc4UqEbmlHF",
        "outputId": "8bf4ee00-a63e-4efd-f307-e877bb4461de"
      },
      "outputs": [
        {
          "name": "stdout",
          "output_type": "stream",
          "text": [
            "     Temperature (K)  Luminosity(L/Lo)  Radius(R/Ro)  Absolute magnitude(Mv)  \\\n",
            "0               3068          0.002400        0.1700                   16.12   \n",
            "1               3042          0.000500        0.1542                   16.60   \n",
            "2               2600          0.000300        0.1020                   18.70   \n",
            "3               2800          0.000200        0.1600                   16.65   \n",
            "4               1939          0.000138        0.1030                   20.06   \n",
            "..               ...               ...           ...                     ...   \n",
            "235            38940     374830.000000     1356.0000                   -9.93   \n",
            "236            30839     834042.000000     1194.0000                  -10.63   \n",
            "237             8829     537493.000000     1423.0000                  -10.73   \n",
            "238             9235     404940.000000     1112.0000                  -11.23   \n",
            "239            37882     294903.000000     1783.0000                   -7.80   \n",
            "\n",
            "     Star type Star color Spectral Class  \n",
            "0            0        Red              M  \n",
            "1            0        Red              M  \n",
            "2            0        Red              M  \n",
            "3            0        Red              M  \n",
            "4            0        Red              M  \n",
            "..         ...        ...            ...  \n",
            "235          5       Blue              O  \n",
            "236          5       Blue              O  \n",
            "237          5      White              A  \n",
            "238          5      White              A  \n",
            "239          5       Blue              O  \n",
            "\n",
            "[240 rows x 7 columns]\n"
          ]
        }
      ],
      "source": [
        "'''\n",
        "The CSV file is a star catalog and contains information of those respective stars. The information are 'Temperature', 'Lumonisity', 'Radius', 'Absolute magnitude', 'Star color', 'Spectral Class', and 'Star type'.\n",
        "'''\n",
        "\n",
        "# Load your CSV file\n",
        "\n",
        "# For  Google Colab\n",
        "\n",
        "#val = pd.read_csv('/content/drive/MyDrive/6 class csv.csv')\n",
        "\n",
        "# For Local Systerm\n",
        "\n",
        "#val = pd.read_csv(r'your_file_location/6 class csv.csv')\n",
        "\n",
        "print(val)\n",
        "\n",
        "# The following code is to simplify the usage of these info.\n",
        "\n",
        "T = val['Temperature (K)']\n",
        "L = val['Luminosity(L/Lo)']\n",
        "R = val['Radius(R/Ro)']\n",
        "A_M = val['Absolute magnitude(Mv)']\n",
        "S_C = val['Star color']\n",
        "SP_C = val['Spectral Class']\n",
        "S_T = val['Star type']"
      ]
    },
    {
      "cell_type": "markdown",
      "metadata": {
        "id": "W3lVUucRQpQ3"
      },
      "source": [
        "**The type of graphs below which I have used is Temperature vs. Luminosity and the spectral class is defined on the temperature scale**"
      ]
    },
    {
      "cell_type": "markdown",
      "metadata": {
        "id": "5SOgnddrQVWc"
      },
      "source": [
        "Plotting of the Graph for Hertzsprung-Russell Diagram (HRD) with the help of Matplotlib"
      ]
    },
    {
      "cell_type": "code",
      "execution_count": 3,
      "metadata": {
        "colab": {
          "base_uri": "https://localhost:8080/",
          "height": 489
        },
        "id": "fYB3Qrw27UtW",
        "outputId": "c5d15e4a-0f72-4255-b86e-f3e9ad1d59d4"
      },
      "outputs": [
        {
          "data": {
            "text/plain": [
              "<matplotlib.legend.Legend at 0x1f39b2a6db0>"
            ]
          },
          "execution_count": 3,
          "metadata": {},
          "output_type": "execute_result"
        },
        {
          "data": {
            "image/png": "[encoded data removed]",
            "text/plain": [
              "<Figure size 640x480 with 1 Axes>"
            ]
          },
          "metadata": {},
          "output_type": "display_data"
        }
      ],
      "source": [
        "plt.style.use('dark_background')\n",
        "scatter = plt.scatter(T, L, c=S_T, cmap='coolwarm_r')\n",
        "plt.yscale('log')\n",
        "plt.xscale('log')\n",
        "plt.gca().invert_xaxis()\n",
        "\n",
        "spectral_types = ['M', 'K', 'G', 'F', 'A', 'B', 'O']\n",
        "spectral_temps = [3000, 4000, 5500, 6500, 7500, 10000, 30000]\n",
        "\n",
        "plt.xticks(spectral_temps, spectral_types)\n",
        "\n",
        "plt.xlabel('Temperature (K)')\n",
        "plt.ylabel('Luminosity(L/Lo)')\n",
        "plt.title('Hertzsprung-Russell Diagram')\n",
        "plt.grid()\n",
        "\n",
        "legend_labels = {0: 'M', 1: 'K', 2: 'G', 3: 'F', 4: 'A', 5: 'B', 6: 'O'}\n",
        "handles = [plt.scatter([], [], color=scatter.cmap(scatter.norm(label)), label=legend_labels[label]) for label in legend_labels]\n",
        "plt.legend(handles=handles, title='Star Type')"
      ]
    },
    {
      "cell_type": "markdown",
      "metadata": {
        "id": "_hSvadh8Qjwg"
      },
      "source": [
        "Plotting of the Graph for Hertzsprung-Russell Diagram (HRD) with the help of Plotly"
      ]
    },
    {
      "cell_type": "code",
      "execution_count": 4,
      "metadata": {
        "colab": {
          "base_uri": "https://localhost:8080/",
          "height": 1000
        },
        "id": "2Zgh9MZxAcFi",
        "outputId": "9b63cf78-fb21-4b57-fdea-34483924859d"
      },
      "outputs": [
        {
          "data": {
            "application/vnd.plotly.v1+json": {
              "config": {
                "plotlyServerURL": "https://plot.ly"
              },
              "data": [
                {
                  "hovertemplate": "Spectral Type=M<br>Temperature=%{x}<br>Luminosity=%{y}<extra></extra>",
                  "legendgroup": "M",
                  "marker": {
                    "color": "red",
                    "symbol": "circle"
                  },
                  "mode": "markers",
                  "name": "M",
                  "orientation": "v",
                  "showlegend": true,
                  "type": "scatter",
                  "x": {
                    "bdata": "/AviCygK8AqTBxgLTQooCloKjAoQDjkMPgwsDloKDA3vCmwOeAxxDfIOJQ3GDIAMwAsQDvcN9g0pDqINpg76DqUOQg56DUwOeg2oDs8NDQ1oDacLEwt3C98MgQsBC9YKNwsRDRcO6AxODN4NbAxKCw4NPQpWDIMNFQ4fDkcNGg7hDSkOxA77DMsNkgxKDLcNmQx3Cy0LKAurChcMFw4cDK0L1g2rDBMMDg78DNUN8g2sDRAOHg4PC2ILWw2SDH0NSQuYC5wN2grDDYYNuQyyC4wMww0ODkYMqA38DIcN",
                    "dtype": "i2"
                  },
                  "xaxis": "x",
                  "y": {
                    "bdata": "YTJVMCqpYz/8qfHSTWJAP2EyVTAqqTM/LUMc6+I2Kj8cJET5ghYiP5T2Bl+YTEU/smMjEK/rRz8tQxzr4jY6PyMtlbcjnEY/D9b/OcyXJz/gnBGlvcFnPwfwFkhQ/Ig/LUMc6+I2Oj+6SQwCK4d2P2EyVTAqqUM/xY8xdy0hbz+Sy39Iv31dP3EDPj+MEG4/ZJKRs7CnbT8rhxbZzvejPwAAAAAAaghBAAAAAIDAFEEAAAAAgE8CQQAAAADAzQdBAAAAAAAXEUEAAAAAAIgTQQAAAACAB/5AAAAAAABqCEEAAAAAAHYGQQAAAADAehBBAAAAAOBFEUEAAAAAAJoQQQAAAADgyCBBAAAAAMDrEkEAAAAAYA0QQQAAAADgJxZBAAAAAIA9BUEAAAAAQIMJQQAAAADAzQdBx7q4jQbwdj/cEU4LXvRFP2kdVU0QdS8/gJ9x4UBINj/S+8bXnlkiP1gczvxqDlA/8WjjiLX4ND9YHM78ag5QPw/W/znMlzc/D9b/OcyXRz8bL90kBoGVP7pJDAIrh5Y/nMQgsHJogT8vbqMBvAWCP/yp8dJNYnA//Knx0k1iUD9fB84ZUdprP/p+arx0k1g/YTJVMCqpQz+u2F92Tx5WPwAAAAAAavhAAAAAAADD/kAAAAAAAGoIQQAAAACAkPxAAAAAAAAdAEEAAAAAQLMBQQAAAAAAEfJAAAAAAABqCEEDlfHvMy48P3506spneU4/i+B/K9mxQT9hMlUwKqkjP/Fo44i1+EQ/ngyOklfnSD+nIhXGFoJMP54MjpJX5yg/t18+WTFcTT+Cjla1pKM8P54MjpJX5yg/2ubG9IQlLj/8qfHSTWKAP6g1zTtO0YE/kst/SL99TT9IUPwYc9diP4Lix5i7loA/L26jAbwFUj9fB84ZUdprP5T2Bl+YTFU/AAAAAACIE0EAAAAAgNgAQQAAAAAATA1BAAAAAECzAUG1UgjkEkcuP0Q2kC42rUQ/WBzO/GoOMD9tN8E3TZ89P6CobFhTWUQ/oib6fJQRNz/HnGfsSzY+PyXJc30fDkI/aaz9ne3RSz+EDOTZ5VtPP6Fns+pztXU/YTJVMCqpYz+Sy39Iv319Py1DHOviNlo/rthfdk8edj+u2F92Tx5mPziEKjV7oFU/exSuR+F6VD85tMh2vp96P67YX3ZPHmY/",
                    "dtype": "f8"
                  },
                  "yaxis": "y"
                },
                {
                  "hovertemplate": "Spectral Type=B<br>Temperature=%{x}<br>Luminosity=%{y}<extra></extra>",
                  "legendgroup": "B",
                  "marker": {
                    "color": "lightblue",
                    "symbol": "circle"
                  },
                  "mode": "markers",
                  "name": "B",
                  "orientation": "v",
                  "showlegend": true,
                  "type": "scatter",
                  "x": {
                    "bdata": "qGEAAHRAAAAwdQAArDsAAOQlAADWgwAAMEMAABQ3AADqLgAA5CoAAJRNAAAUggAAbDQAABxSAAByRwAAuDgAAHwuAABwMgAAuDIAAHhzAAAGQAAA7mEAABxwAAAcZgAAmE4AAJBlAAD4KgAARC8AAKpfAACWQQAAQD0AAIY6AAAcNAAApEcAANBNAADUXQAANFoAAABGAACgSwAATlcAAPxVAADISwAA9EIAAFFeAABbbAAAkFUAAA==",
                    "dtype": "i4"
                  },
                  "xaxis": "x",
                  "y": {
                    "bdata": "eekmMQisrD85tMh2vp+KPwAAAAAAKtxAAAAAAADAkUAAAAAAAIBSQAAAAAAA2wpBWBzO/GoOUD/cEU4LXvRFP+Un1T4dj0k/VvFG5pE/SD8vbqMBvAVSPwAAAAAATA1BvqQxWkdVQz/6fmq8dJNYP5T2Bl+YTFU/dF5jl6jeSj/cEU4LXvRFP2tI3GPpQ0c/S7A4nPnVTD8AAAAAAPMGQQAAAAAA+JNAAAAAAABSzEAAAAAAgGXQQAAAAAAAXMxAAAAAAABwskAAAAAAgEkTQQAAAACAwARBAAAAAABM/UAAAAAAUFUOQce6uI0G8FY/BcB4Bg39Uz++pDFaR1VTP12nkZbK21E/3BFOC170VT/lJ9U+HY9ZP1t8CoDxDFo/OIQqNXugVT8BNbVsrS9SP3sUrkfhelQ/AAAAAABRyEAAAAAAAFy6QAAAAAAAVMVAAAAAAACYi0AAAAAARGAXQQAAAAAY7ClBAAAAAJTXJkE=",
                    "dtype": "f8"
                  },
                  "yaxis": "y"
                },
                {
                  "hovertemplate": "Spectral Type=A<br>Temperature=%{x}<br>Luminosity=%{y}<extra></extra>",
                  "legendgroup": "A",
                  "marker": {
                    "color": "lightblue",
                    "symbol": "circle"
                  },
                  "mode": "markers",
                  "name": "A",
                  "orientation": "v",
                  "showlegend": true,
                  "type": "scatter",
                  "x": {
                    "bdata": "PB40IXohdB/iIsslRiPyK0Iv3CIrHvEi7DbfMhwnITNoJH0iEyQ=",
                    "dtype": "i2"
                  },
                  "xaxis": "x",
                  "y": {
                    "bdata": "WBzO/GoOQD/8qfHSTWJAP9DQP8HFiko/ZmZmZmZmIUDS+8bXnllCP5LLf0i/fT0/AAAAAACARkAAAAAAAACFQAAAAAAAiIVA0vvG155ZMj/S+8bXnlkiPwAAAAAAAENAAAAAAAAQkUAAAAAAADCPQAAAAAAAQIFAAAAAAACgiEAAAAAAAAA9QAAAAAAqZyBBAAAAADC3GEE=",
                    "dtype": "f8"
                  },
                  "yaxis": "y"
                },
                {
                  "hovertemplate": "Spectral Type=F<br>Temperature=%{x}<br>Luminosity=%{y}<extra></extra>",
                  "legendgroup": "F",
                  "marker": {
                    "color": "white",
                    "symbol": "circle"
                  },
                  "mode": "markers",
                  "name": "F",
                  "orientation": "v",
                  "showlegend": true,
                  "type": "scatter",
                  "x": {
                    "bdata": "NBy+MhQeDi4+HKgWZRrsGDAX0xW8G04pmDW0FCgejDk6IA==",
                    "dtype": "i2"
                  },
                  "xaxis": "x",
                  "y": {
                    "bdata": "gJ9x4UBIJj+An3HhQEgWP0uwOJz51Rw/YTJVMCqpIz/xaOOItfgUP+xRuB6F6+k/4XoUrkfh9j+amZmZmZn1P4PAyqFFtvU/aJHtfD816j8aFw6EZAEzP9L7xteeWSI/D9b/OcyXJz/hehSuR+HiP65H4XoUrh9AS7A4nPnVHD8AAAAAAIAiQA==",
                    "dtype": "f8"
                  },
                  "yaxis": "y"
                },
                {
                  "hovertemplate": "Spectral Type=O<br>Temperature=%{x}<br>Luminosity=%{y}<extra></extra>",
                  "legendgroup": "O",
                  "marker": {
                    "color": "blue",
                    "symbol": "circle"
                  },
                  "mode": "markers",
                  "name": "O",
                  "orientation": "v",
                  "showlegend": true,
                  "type": "scatter",
                  "x": {
                    "bdata": "WJgAAAyNAABAnAAA2FkAAOBCAABYKwAApTcAADZgAABdMgAAGV8AAI2CAACokwAALmMAAC8tAACDMQAAeBYAAN8iAAByHAAA000AAAVnAADnQwAAnSQAAFBGAACOhQAAzH4AAH5cAADNMQAApyQAAJBbAACTQQAALkkAAKQmAACyKgAAN1oAAOpUAABalQAA6X4AAByYAAB3eAAA+pMAAA==",
                    "dtype": "i4"
                  },
                  "xaxis": "x",
                  "y": {
                    "bdata": "AAAAAADnCEEAAAAAgCsIQQAAAACQzyhBAAAAAIAB/0AAAAAAwK8MQQAAAAAAWPtAAAAAAMAyDEEAAAAA4CcWQQAAAAAAdgZBAAAAAIBVAUEAAAAAAHwVQQAAAACgxAhBAAAAAMA4C0EAAAAAwKMOQQAAAACAlhtBAAAAAEDoDUEAAAAAwCwNQQAAAACA+/9AAAAAAACOAkEAAAAAgCsIQQAAAADQ7RRBAAAAACDpGUEAAAAAAGoIQQAAAADAMQhBAAAAAEA3BUEAAAAAENINQQAAAACgSxRBAAAAAHDuFEEAAAAArGYgQQAAAABQHg5BAAAAAGBwC0EAAAAA2B8iQQAAAAB07CdBAAAAALA6FUEAAAAAtNomQQAAAAD4phBBAAAAANzJI0EAAAAAuOAWQQAAAAD0cylBAAAAANz/EUE=",
                    "dtype": "f8"
                  },
                  "yaxis": "y"
                },
                {
                  "hovertemplate": "Spectral Type=K<br>Temperature=%{x}<br>Luminosity=%{y}<extra></extra>",
                  "legendgroup": "K",
                  "marker": {
                    "color": "lightyellow",
                    "symbol": "circle"
                  },
                  "mode": "markers",
                  "name": "K",
                  "orientation": "v",
                  "showlegend": true,
                  "type": "scatter",
                  "x": {
                    "bdata": "rhHtD3QT+BOvD78Q",
                    "dtype": "i2"
                  },
                  "xaxis": "x",
                  "y": {
                    "bdata": "L90kBoGVwz/D9Shcj8K1PwwCK4cW2dY/KVyPwvUo5D8AAAAAQDYRQQAAAADgOSNB",
                    "dtype": "f8"
                  },
                  "yaxis": "y"
                },
                {
                  "hovertemplate": "Spectral Type=G<br>Temperature=%{x}<br>Luminosity=%{y}<extra></extra>",
                  "legendgroup": "G",
                  "marker": {
                    "color": "yellow",
                    "symbol": "circle"
                  },
                  "mode": "markers",
                  "name": "G",
                  "orientation": "v",
                  "showlegend": true,
                  "type": "scatter",
                  "x": {
                    "bdata": "who=",
                    "dtype": "i2"
                  },
                  "xaxis": "x",
                  "y": {
                    "bdata": "AAAAAED0C0E=",
                    "dtype": "f8"
                  },
                  "yaxis": "y"
                }
              ],
              "layout": {
                "height": 1000,
                "legend": {
                  "title": {
                    "text": "Star Type"
                  },
                  "tracegroupgap": 0
                },
                "template": {
                  "data": {
                    "bar": [
                      {
                        "error_x": {
                          "color": "#f2f5fa"
                        },
                        "error_y": {
                          "color": "#f2f5fa"
                        },
                        "marker": {
                          "line": {
                            "color": "rgb(17,17,17)",
                            "width": 0.5
                          },
                          "pattern": {
                            "fillmode": "overlay",
                            "size": 10,
                            "solidity": 0.2
                          }
                        },
                        "type": "bar"
                      }
                    ],
                    "barpolar": [
                      {
                        "marker": {
                          "line": {
                            "color": "rgb(17,17,17)",
                            "width": 0.5
                          },
                          "pattern": {
                            "fillmode": "overlay",
                            "size": 10,
                            "solidity": 0.2
                          }
                        },
                        "type": "barpolar"
                      }
                    ],
                    "carpet": [
                      {
                        "aaxis": {
                          "endlinecolor": "#A2B1C6",
                          "gridcolor": "#506784",
                          "linecolor": "#506784",
                          "minorgridcolor": "#506784",
                          "startlinecolor": "#A2B1C6"
                        },
                        "baxis": {
                          "endlinecolor": "#A2B1C6",
                          "gridcolor": "#506784",
                          "linecolor": "#506784",
                          "minorgridcolor": "#506784",
                          "startlinecolor": "#A2B1C6"
                        },
                        "type": "carpet"
                      }
                    ],
                    "choropleth": [
                      {
                        "colorbar": {
                          "outlinewidth": 0,
                          "ticks": ""
                        },
                        "type": "choropleth"
                      }
                    ],
                    "contour": [
                      {
                        "colorbar": {
                          "outlinewidth": 0,
                          "ticks": ""
                        },
                        "colorscale": [
                          [
                            0,
                            "#0d0887"
                          ],
                          [
                            0.1111111111111111,
                            "#46039f"
                          ],
                          [
                            0.2222222222222222,
                            "#7201a8"
                          ],
                          [
                            0.3333333333333333,
                            "#9c179e"
                          ],
                          [
                            0.4444444444444444,
                            "#bd3786"
                          ],
                          [
                            0.5555555555555556,
                            "#d8576b"
                          ],
                          [
                            0.6666666666666666,
                            "#ed7953"
                          ],
                          [
                            0.7777777777777778,
                            "#fb9f3a"
                          ],
                          [
                            0.8888888888888888,
                            "#fdca26"
                          ],
                          [
                            1,
                            "#f0f921"
                          ]
                        ],
                        "type": "contour"
                      }
                    ],
                    "contourcarpet": [
                      {
                        "colorbar": {
                          "outlinewidth": 0,
                          "ticks": ""
                        },
                        "type": "contourcarpet"
                      }
                    ],
                    "heatmap": [
                      {
                        "colorbar": {
                          "outlinewidth": 0,
                          "ticks": ""
                        },
                        "colorscale": [
                          [
                            0,
                            "#0d0887"
                          ],
                          [
                            0.1111111111111111,
                            "#46039f"
                          ],
                          [
                            0.2222222222222222,
                            "#7201a8"
                          ],
                          [
                            0.3333333333333333,
                            "#9c179e"
                          ],
                          [
                            0.4444444444444444,
                            "#bd3786"
                          ],
                          [
                            0.5555555555555556,
                            "#d8576b"
                          ],
                          [
                            0.6666666666666666,
                            "#ed7953"
                          ],
                          [
                            0.7777777777777778,
                            "#fb9f3a"
                          ],
                          [
                            0.8888888888888888,
                            "#fdca26"
                          ],
                          [
                            1,
                            "#f0f921"
                          ]
                        ],
                        "type": "heatmap"
                      }
                    ],
                    "histogram": [
                      {
                        "marker": {
                          "pattern": {
                            "fillmode": "overlay",
                            "size": 10,
                            "solidity": 0.2
                          }
                        },
                        "type": "histogram"
                      }
                    ],
                    "histogram2d": [
                      {
                        "colorbar": {
                          "outlinewidth": 0,
                          "ticks": ""
                        },
                        "colorscale": [
                          [
                            0,
                            "#0d0887"
                          ],
                          [
                            0.1111111111111111,
                            "#46039f"
                          ],
                          [
                            0.2222222222222222,
                            "#7201a8"
                          ],
                          [
                            0.3333333333333333,
                            "#9c179e"
                          ],
                          [
                            0.4444444444444444,
                            "#bd3786"
                          ],
                          [
                            0.5555555555555556,
                            "#d8576b"
                          ],
                          [
                            0.6666666666666666,
                            "#ed7953"
                          ],
                          [
                            0.7777777777777778,
                            "#fb9f3a"
                          ],
                          [
                            0.8888888888888888,
                            "#fdca26"
                          ],
                          [
                            1,
                            "#f0f921"
                          ]
                        ],
                        "type": "histogram2d"
                      }
                    ],
                    "histogram2dcontour": [
                      {
                        "colorbar": {
                          "outlinewidth": 0,
                          "ticks": ""
                        },
                        "colorscale": [
                          [
                            0,
                            "#0d0887"
                          ],
                          [
                            0.1111111111111111,
                            "#46039f"
                          ],
                          [
                            0.2222222222222222,
                            "#7201a8"
                          ],
                          [
                            0.3333333333333333,
                            "#9c179e"
                          ],
                          [
                            0.4444444444444444,
                            "#bd3786"
                          ],
                          [
                            0.5555555555555556,
                            "#d8576b"
                          ],
                          [
                            0.6666666666666666,
                            "#ed7953"
                          ],
                          [
                            0.7777777777777778,
                            "#fb9f3a"
                          ],
                          [
                            0.8888888888888888,
                            "#fdca26"
                          ],
                          [
                            1,
                            "#f0f921"
                          ]
                        ],
                        "type": "histogram2dcontour"
                      }
                    ],
                    "mesh3d": [
                      {
                        "colorbar": {
                          "outlinewidth": 0,
                          "ticks": ""
                        },
                        "type": "mesh3d"
                      }
                    ],
                    "parcoords": [
                      {
                        "line": {
                          "colorbar": {
                            "outlinewidth": 0,
                            "ticks": ""
                          }
                        },
                        "type": "parcoords"
                      }
                    ],
                    "pie": [
                      {
                        "automargin": true,
                        "type": "pie"
                      }
                    ],
                    "scatter": [
                      {
                        "marker": {
                          "line": {
                            "color": "#283442"
                          }
                        },
                        "type": "scatter"
                      }
                    ],
                    "scatter3d": [
                      {
                        "line": {
                          "colorbar": {
                            "outlinewidth": 0,
                            "ticks": ""
                          }
                        },
                        "marker": {
                          "colorbar": {
                            "outlinewidth": 0,
                            "ticks": ""
                          }
                        },
                        "type": "scatter3d"
                      }
                    ],
                    "scattercarpet": [
                      {
                        "marker": {
                          "colorbar": {
                            "outlinewidth": 0,
                            "ticks": ""
                          }
                        },
                        "type": "scattercarpet"
                      }
                    ],
                    "scattergeo": [
                      {
                        "marker": {
                          "colorbar": {
                            "outlinewidth": 0,
                            "ticks": ""
                          }
                        },
                        "type": "scattergeo"
                      }
                    ],
                    "scattergl": [
                      {
                        "marker": {
                          "line": {
                            "color": "#283442"
                          }
                        },
                        "type": "scattergl"
                      }
                    ],
                    "scattermap": [
                      {
                        "marker": {
                          "colorbar": {
                            "outlinewidth": 0,
                            "ticks": ""
                          }
                        },
                        "type": "scattermap"
                      }
                    ],
                    "scattermapbox": [
                      {
                        "marker": {
                          "colorbar": {
                            "outlinewidth": 0,
                            "ticks": ""
                          }
                        },
                        "type": "scattermapbox"
                      }
                    ],
                    "scatterpolar": [
                      {
                        "marker": {
                          "colorbar": {
                            "outlinewidth": 0,
                            "ticks": ""
                          }
                        },
                        "type": "scatterpolar"
                      }
                    ],
                    "scatterpolargl": [
                      {
                        "marker": {
                          "colorbar": {
                            "outlinewidth": 0,
                            "ticks": ""
                          }
                        },
                        "type": "scatterpolargl"
                      }
                    ],
                    "scatterternary": [
                      {
                        "marker": {
                          "colorbar": {
                            "outlinewidth": 0,
                            "ticks": ""
                          }
                        },
                        "type": "scatterternary"
                      }
                    ],
                    "surface": [
                      {
                        "colorbar": {
                          "outlinewidth": 0,
                          "ticks": ""
                        },
                        "colorscale": [
                          [
                            0,
                            "#0d0887"
                          ],
                          [
                            0.1111111111111111,
                            "#46039f"
                          ],
                          [
                            0.2222222222222222,
                            "#7201a8"
                          ],
                          [
                            0.3333333333333333,
                            "#9c179e"
                          ],
                          [
                            0.4444444444444444,
                            "#bd3786"
                          ],
                          [
                            0.5555555555555556,
                            "#d8576b"
                          ],
                          [
                            0.6666666666666666,
                            "#ed7953"
                          ],
                          [
                            0.7777777777777778,
                            "#fb9f3a"
                          ],
                          [
                            0.8888888888888888,
                            "#fdca26"
                          ],
                          [
                            1,
                            "#f0f921"
                          ]
                        ],
                        "type": "surface"
                      }
                    ],
                    "table": [
                      {
                        "cells": {
                          "fill": {
                            "color": "#506784"
                          },
                          "line": {
                            "color": "rgb(17,17,17)"
                          }
                        },
                        "header": {
                          "fill": {
                            "color": "#2a3f5f"
                          },
                          "line": {
                            "color": "rgb(17,17,17)"
                          }
                        },
                        "type": "table"
                      }
                    ]
                  },
                  "layout": {
                    "annotationdefaults": {
                      "arrowcolor": "#f2f5fa",
                      "arrowhead": 0,
                      "arrowwidth": 1
                    },
                    "autotypenumbers": "strict",
                    "coloraxis": {
                      "colorbar": {
                        "outlinewidth": 0,
                        "ticks": ""
                      }
                    },
                    "colorscale": {
                      "diverging": [
                        [
                          0,
                          "#8e0152"
                        ],
                        [
                          0.1,
                          "#c51b7d"
                        ],
                        [
                          0.2,
                          "#de77ae"
                        ],
                        [
                          0.3,
                          "#f1b6da"
                        ],
                        [
                          0.4,
                          "#fde0ef"
                        ],
                        [
                          0.5,
                          "#f7f7f7"
                        ],
                        [
                          0.6,
                          "#e6f5d0"
                        ],
                        [
                          0.7,
                          "#b8e186"
                        ],
                        [
                          0.8,
                          "#7fbc41"
                        ],
                        [
                          0.9,
                          "#4d9221"
                        ],
                        [
                          1,
                          "#276419"
                        ]
                      ],
                      "sequential": [
                        [
                          0,
                          "#0d0887"
                        ],
                        [
                          0.1111111111111111,
                          "#46039f"
                        ],
                        [
                          0.2222222222222222,
                          "#7201a8"
                        ],
                        [
                          0.3333333333333333,
                          "#9c179e"
                        ],
                        [
                          0.4444444444444444,
                          "#bd3786"
                        ],
                        [
                          0.5555555555555556,
                          "#d8576b"
                        ],
                        [
                          0.6666666666666666,
                          "#ed7953"
                        ],
                        [
                          0.7777777777777778,
                          "#fb9f3a"
                        ],
                        [
                          0.8888888888888888,
                          "#fdca26"
                        ],
                        [
                          1,
                          "#f0f921"
                        ]
                      ],
                      "sequentialminus": [
                        [
                          0,
                          "#0d0887"
                        ],
                        [
                          0.1111111111111111,
                          "#46039f"
                        ],
                        [
                          0.2222222222222222,
                          "#7201a8"
                        ],
                        [
                          0.3333333333333333,
                          "#9c179e"
                        ],
                        [
                          0.4444444444444444,
                          "#bd3786"
                        ],
                        [
                          0.5555555555555556,
                          "#d8576b"
                        ],
                        [
                          0.6666666666666666,
                          "#ed7953"
                        ],
                        [
                          0.7777777777777778,
                          "#fb9f3a"
                        ],
                        [
                          0.8888888888888888,
                          "#fdca26"
                        ],
                        [
                          1,
                          "#f0f921"
                        ]
                      ]
                    },
                    "colorway": [
                      "#636efa",
                      "#EF553B",
                      "#00cc96",
                      "#ab63fa",
                      "#FFA15A",
                      "#19d3f3",
                      "#FF6692",
                      "#B6E880",
                      "#FF97FF",
                      "#FECB52"
                    ],
                    "font": {
                      "color": "#f2f5fa"
                    },
                    "geo": {
                      "bgcolor": "rgb(17,17,17)",
                      "lakecolor": "rgb(17,17,17)",
                      "landcolor": "rgb(17,17,17)",
                      "showlakes": true,
                      "showland": true,
                      "subunitcolor": "#506784"
                    },
                    "hoverlabel": {
                      "align": "left"
                    },
                    "hovermode": "closest",
                    "mapbox": {
                      "style": "dark"
                    },
                    "paper_bgcolor": "rgb(17,17,17)",
                    "plot_bgcolor": "rgb(17,17,17)",
                    "polar": {
                      "angularaxis": {
                        "gridcolor": "#506784",
                        "linecolor": "#506784",
                        "ticks": ""
                      },
                      "bgcolor": "rgb(17,17,17)",
                      "radialaxis": {
                        "gridcolor": "#506784",
                        "linecolor": "#506784",
                        "ticks": ""
                      }
                    },
                    "scene": {
                      "xaxis": {
                        "backgroundcolor": "rgb(17,17,17)",
                        "gridcolor": "#506784",
                        "gridwidth": 2,
                        "linecolor": "#506784",
                        "showbackground": true,
                        "ticks": "",
                        "zerolinecolor": "#C8D4E3"
                      },
                      "yaxis": {
                        "backgroundcolor": "rgb(17,17,17)",
                        "gridcolor": "#506784",
                        "gridwidth": 2,
                        "linecolor": "#506784",
                        "showbackground": true,
                        "ticks": "",
                        "zerolinecolor": "#C8D4E3"
                      },
                      "zaxis": {
                        "backgroundcolor": "rgb(17,17,17)",
                        "gridcolor": "#506784",
                        "gridwidth": 2,
                        "linecolor": "#506784",
                        "showbackground": true,
                        "ticks": "",
                        "zerolinecolor": "#C8D4E3"
                      }
                    },
                    "shapedefaults": {
                      "line": {
                        "color": "#f2f5fa"
                      }
                    },
                    "sliderdefaults": {
                      "bgcolor": "#C8D4E3",
                      "bordercolor": "rgb(17,17,17)",
                      "borderwidth": 1,
                      "tickwidth": 0
                    },
                    "ternary": {
                      "aaxis": {
                        "gridcolor": "#506784",
                        "linecolor": "#506784",
                        "ticks": ""
                      },
                      "baxis": {
                        "gridcolor": "#506784",
                        "linecolor": "#506784",
                        "ticks": ""
                      },
                      "bgcolor": "rgb(17,17,17)",
                      "caxis": {
                        "gridcolor": "#506784",
                        "linecolor": "#506784",
                        "ticks": ""
                      }
                    },
                    "title": {
                      "x": 0.05
                    },
                    "updatemenudefaults": {
                      "bgcolor": "#506784",
                      "borderwidth": 0
                    },
                    "xaxis": {
                      "automargin": true,
                      "gridcolor": "#283442",
                      "linecolor": "#506784",
                      "ticks": "",
                      "title": {
                        "standoff": 15
                      },
                      "zerolinecolor": "#283442",
                      "zerolinewidth": 2
                    },
                    "yaxis": {
                      "automargin": true,
                      "gridcolor": "#283442",
                      "linecolor": "#506784",
                      "ticks": "",
                      "title": {
                        "standoff": 15
                      },
                      "zerolinecolor": "#283442",
                      "zerolinewidth": 2
                    }
                  }
                },
                "title": {
                  "text": "Hertzsprung-Russell Diagram"
                },
                "width": 800,
                "xaxis": {
                  "anchor": "y",
                  "autorange": "reversed",
                  "domain": [
                    0,
                    1
                  ],
                  "tickmode": "array",
                  "ticktext": [
                    "M = 3000",
                    "K = 4000",
                    "G = 5500",
                    "F = 6500",
                    "A = 7500",
                    "B = 10000",
                    "O = 30000"
                  ],
                  "tickvals": [
                    3000,
                    4000,
                    5500,
                    6500,
                    7500,
                    10000,
                    30000
                  ],
                  "title": {
                    "text": "Temperature (K)"
                  },
                  "type": "log"
                },
                "yaxis": {
                  "anchor": "x",
                  "domain": [
                    0,
                    1
                  ],
                  "title": {
                    "text": "Luminosity (L/Lo)"
                  },
                  "type": "log"
                }
              }
            }
          },
          "metadata": {},
          "output_type": "display_data"
        }
      ],
      "source": [
        "'''\n",
        "Plotly is an interactive graphical repressentaion python module. One can hover over the points in the graphs and see the info of the point\n",
        "which represent a star, and 'Color-Map' on the top-right corner of the graph can be used to show or hide individual categories for easier understanding.\n",
        "'''\n",
        "\n",
        "plotly_val = pd.DataFrame({\n",
        "    'Temperature': T,\n",
        "    'Luminosity': L,\n",
        "    'Spectral Type': SP_C\n",
        "})\n",
        "\n",
        "fig = px.scatter(plotly_val, x='Temperature', y='Luminosity', color='Spectral Type',\n",
        "                color_discrete_map={'M': 'red', 'K': 'lightyellow', 'G': 'yellow','F': 'white', 'A': 'lightblue', 'B': 'lightblue', 'O': 'blue'},\n",
        "                 title='Hertzsprung-Russell Diagram', template='plotly_dark',\n",
        "                 log_x=True, log_y=True)\n",
        "\n",
        "fig.update_layout(xaxis=dict(autorange='reversed'),\n",
        "                  width=800,\n",
        "                  height=1000,\n",
        "                  xaxis_title='Temperature (K)',\n",
        "                  yaxis_title='Luminosity (L/Lo)',\n",
        "                  legend_title='Star Type')\n",
        "fig.update_xaxes(\n",
        "    tickmode='array',\n",
        "    tickvals=[3000, 4000, 5500, 6500, 7500, 10000, 30000],\n",
        "    ticktext=['M = 3000', 'K = 4000', 'G = 5500', 'F = 6500', 'A = 7500', 'B = 10000', 'O = 30000']\n",
        ")\n",
        "\n",
        "fig.write_html(\"HR_Diagram_Interactive.html\")\n",
        "\n",
        "fig.show()"
      ]
    }
  ],
  "metadata": {
    "colab": {
      "provenance": []
    },
    "kernelspec": {
      "display_name": "Python 3",
      "name": "python3"
    },
    "language_info": {
      "codemirror_mode": {
        "name": "ipython",
        "version": 3
      },
      "file_extension": ".py",
      "mimetype": "text/x-python",
      "name": "python",
      "nbconvert_exporter": "python",
      "pygments_lexer": "ipython3",
      "version": "3.12.10"
    }
  },
  "nbformat": 4,
  "nbformat_minor": 0
}
